{
 "cells": [
  {
   "cell_type": "markdown",
   "metadata": {},
   "source": [
    "# First Look at Lists\n",
    "\n",
    "One of the most important data structures in Python is the list. A list in Python is\n",
    "like the lists you are familiar with, like a grocery list: \n",
    "\n",
    "```\n",
    "Things To Buy\n",
    "  - apples\n",
    "  - oranges\n",
    "  - bread \n",
    "  - milk\n",
    "```\n",
    "\n",
    "But in Python we would write it like this: \n"
   ]
  },
  {
   "cell_type": "code",
   "execution_count": null,
   "metadata": {},
   "outputs": [],
   "source": [
    "\n",
    "things_to_buy = [ 'apples','oranges','bread','milk']\n",
    "things_to_buy"
   ]
  },
  {
   "cell_type": "markdown",
   "metadata": {},
   "source": [
    "\n",
    "\n",
    "The brackets, `[` and `]` are most often used to mean that something is a list. \n",
    "\n",
    "There are a lot of neat things we can do with a list.\n",
    "\n",
    "First, you can get a specific item from a list, using the `[]` with a number inside. \n"
   ]
  },
  {
   "cell_type": "code",
   "execution_count": 2,
   "metadata": {},
   "outputs": [
    {
     "data": {
      "text/plain": [
       "'oranges'"
      ]
     },
     "execution_count": 2,
     "metadata": {},
     "output_type": "execute_result"
    }
   ],
   "source": [
    "things_to_buy = [ 'apples','oranges','bread','milk']\n",
    "things_to_buy[1]\n"
   ]
  },
  {
   "cell_type": "markdown",
   "metadata": {},
   "source": [
    "Getting values out of a list like this is called \"indexing\".\n",
    "\n",
    "\n",
    "Like most programming languages, the first item in a list is 0, not 1, so if\n",
    "you wanted to get `apples` from the list, you would write `things_to_get[0]`\n",
    "\n",
    "Another important thing about lists is you can _iterate_ them, which means 'do\n",
    "something repeatedly'. Here is how we would print out all of the items in the\n",
    "list: \n",
    "\n"
   ]
  },
  {
   "cell_type": "code",
   "execution_count": 3,
   "metadata": {},
   "outputs": [
    {
     "name": "stdout",
     "output_type": "stream",
     "text": [
      "apples\n",
      "oranges\n",
      "bread\n",
      "milk\n"
     ]
    }
   ],
   "source": [
    "\n",
    "things_to_buy = [ 'apples','oranges','bread','milk']\n",
    "\n",
    "for item in things_to_buy:\n",
    "    print(item)\n"
   ]
  },
  {
   "cell_type": "markdown",
   "metadata": {},
   "source": [
    "\n",
    "\n",
    "Loops and lists could be very useful for our turtle programs. For instance, we could make a square with \n",
    "a different color on each side: \n",
    "\n",
    "```python\n",
    "\n",
    "import turtle\n",
    "tina = turtle.Turtle()\n",
    "tina.shape(\"turtle\")\n",
    "\n",
    "forward = 50\n",
    "left = 90\n",
    "colors = [ 'red', 'blue', 'black', 'orange']\n",
    "\n",
    "for color in colors:\n",
    "    tina.color(color)\n",
    "    tina.forward(forward)\n",
    "    tina.left(left)\n",
    "\n",
    "```\n",
    "\n",
    "Or, we could change the angle that tina turns: \n"
   ]
  },
  {
   "cell_type": "code",
   "execution_count": 4,
   "metadata": {},
   "outputs": [
    {
     "name": "stdout",
     "output_type": "stream",
     "text": [
      "tina.forward(50)\n",
      "tina.left(45)\n",
      " \n",
      "tina.forward(50)\n",
      "tina.left(60)\n",
      " \n",
      "tina.forward(50)\n",
      "tina.left(90)\n",
      " \n",
      "tina.forward(50)\n",
      "tina.left(45)\n",
      " \n",
      "tina.forward(50)\n",
      "tina.left(-90)\n",
      " \n",
      "tina.forward(50)\n",
      "tina.left(60)\n",
      " \n",
      "tina.forward(50)\n",
      "tina.left(22)\n",
      " \n",
      "tina.forward(50)\n",
      "tina.left(-45)\n",
      " \n",
      "tina.forward(50)\n",
      "tina.left(90)\n",
      " \n"
     ]
    }
   ],
   "source": [
    "# Run Me!\n",
    "# Note we are going to print out what Tina does, instead of actually run Tina in a window. \n",
    "\n",
    "forward = 50\n",
    "\n",
    "for left in [ 45, 60, 90, 45, -90, 60, 22 , -45, 90]:\n",
    "    print(f\"tina.forward({forward})\")\n",
    "    print(f\"tina.left({left})\")\n",
    "    print(\" \")\n"
   ]
  },
  {
   "cell_type": "markdown",
   "metadata": {},
   "source": [
    "There is a lot more that lists can do, but this must is all we need now. "
   ]
  },
  {
   "cell_type": "markdown",
   "metadata": {},
   "source": []
  }
 ],
 "metadata": {
  "kernelspec": {
   "display_name": ".venv",
   "language": "python",
   "name": "python3"
  },
  "language_info": {
   "codemirror_mode": {
    "name": "ipython",
    "version": 3
   },
   "file_extension": ".py",
   "mimetype": "text/x-python",
   "name": "python",
   "nbconvert_exporter": "python",
   "pygments_lexer": "ipython3",
   "version": "3.12.4"
  }
 },
 "nbformat": 4,
 "nbformat_minor": 2
}
