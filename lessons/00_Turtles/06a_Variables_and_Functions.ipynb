{
 "cells": [
  {
   "cell_type": "markdown",
   "metadata": {},
   "source": [
    "# Variables and Functions\n",
    "\n",
    "<div class=\"alert alert-info\">\n",
    "  A few thigns to remember:\n",
    "\n",
    "  1) Commit your code! Review  `03_Check_In_You_Code` for a reminder \n",
    "    on how to commit and sync your changes. \n",
    "  2) Remember that these `.ipynb` files have runable cells. Review `01_Get_Started`, \n",
    "    in the section \"Running Programs\" for a reminder on how to run code cells in this file. \n",
    "   \n",
    "</div>\n",
    "\n",
    "\n",
    "Here is one of the ways to solve the last assignment, making shapes with a\n",
    "loop:\n",
    "\n",
    "```python \n",
    "\n",
    "import turtle                           # Tell Python we want to work with the turtle\n",
    "turtle.setup(width=600, height=600)     # Set the size of the window\n",
    "\n",
    "tina = turtle.Turtle()                  # Create a turtle named tina\n",
    "\n",
    "for i in range(4):\n",
    "    tina.forward(150)                   # Move tina forward by the forward distance\n",
    "    tina.left(90)                       # Turn tina left by the left turn\n",
    "\n",
    "\n",
    "```\n",
    "\n",
    "Let's see if we can make this code even simpler. Notice that the code that draws\n",
    "the square has a range of `4` and left turn of `90` degrees, and $4*90 = 360$,\n",
    "and there are 360 degrees in a circle. The pentagram has a range of `5` and a\n",
    "left turn of `72` degrees, and $5*72=360$. Hmm... could we come up with a way to\n",
    "compute the angle for  any number of sides? To do that, we going to use\n",
    "variables and math. "
   ]
  },
  {
   "cell_type": "code",
   "execution_count": 3,
   "metadata": {},
   "outputs": [
    {
     "data": {
      "text/plain": [
       "60.0"
      ]
     },
     "execution_count": 3,
     "metadata": {},
     "output_type": "execute_result"
    }
   ],
   "source": [
    "# Run me\n",
    "# Compute the angle for a number of sides\n",
    "\n",
    "sides = 6\n",
    "angle = 360/sides\n",
    "\n",
    "for i in range(sides):\n",
    "    tina.forward(150)\n",
    "    tina.left(angle)\n"
   ]
  },
  {
   "cell_type": "markdown",
   "metadata": {},
   "source": [
    "If we want 6 sides the angle is 60 degrees, and sure enough, $60*6 = 360$.\n",
    "\n",
    "The words  `sides`  and `angle` are __variables__, which are like the names of boxes \n",
    "that can hold values. We can __assign__ values to variables, then use those variables \n",
    "in other places. \n",
    "\n",
    "```python \n",
    "\n",
    "sides = 4\n",
    "angle = 360/sides           # Calculate the angle from the number of sides. \n",
    "\n",
    "for i in range(sides):\n",
    "    tina.forward(150)       # Move tina forward by the forward distance\n",
    "    tina.left(angle)        # Turn tina left by the left turn\n",
    "\n",
    "```\n",
    "\n",
    "In this program, if you change the number that we assign to `sides`, the angle will change automatically!\n",
    "\n",
    "Let's see if the angles created by this equation seem correct. Fill in the\n",
    "'...' in the program in the cell below to calculate angles from sides: "
   ]
  },
  {
   "cell_type": "code",
   "execution_count": 5,
   "metadata": {},
   "outputs": [
    {
     "name": "stdout",
     "output_type": "stream",
     "text": [
      "Angle for  1  sides is  Ellipsis\n",
      "Angle for  2  sides is  Ellipsis\n",
      "Angle for  3  sides is  Ellipsis\n",
      "Angle for  4  sides is  Ellipsis\n",
      "Angle for  5  sides is  Ellipsis\n",
      "Angle for  6  sides is  Ellipsis\n",
      "Angle for  7  sides is  Ellipsis\n",
      "Angle for  8  sides is  Ellipsis\n",
      "Angle for  9  sides is  Ellipsis\n"
     ]
    }
   ],
   "source": [
    "# Run me!\n",
    "\n",
    "for sides in range(1, 10):\n",
    "    angle = ...\n",
    "    print(\"Angle for \", sides, \" sides is \", angle)\n",
    "   "
   ]
  },
  {
   "cell_type": "markdown",
   "metadata": {},
   "source": [
    "# Functions\n",
    "\n",
    "We can make another more improvement in our program; by grouping \n",
    "the comands to create a shape into a __function__. Here is an example of a function:"
   ]
  },
  {
   "cell_type": "code",
   "execution_count": 6,
   "metadata": {},
   "outputs": [
    {
     "name": "stdout",
     "output_type": "stream",
     "text": [
      "0 Hello  Blake\n",
      "1 Hello  Blake\n",
      "2 Hello  Blake\n",
      "3 Hello  Blake\n",
      "4 Hello  Blake\n"
     ]
    }
   ],
   "source": [
    "def say_hello(name, times):         # define the function, and give it a name.  'name' and 'times' are parameters\n",
    "\n",
    "    for i in range(times):          # This is the body of the function\n",
    "        print(i, \"Hello \", name)\n",
    "\n",
    "say_hello(\"Blake\", 5)                # Call the function, and pass it two arguments"
   ]
  },
  {
   "cell_type": "markdown",
   "metadata": {},
   "source": [
    "The line that starts with 'def' is the start of the function definition, and the\n",
    "last line is where we call the function -- we actually run it.   Try calling the\n",
    "function again with different parameters."
   ]
  },
  {
   "cell_type": "code",
   "execution_count": 9,
   "metadata": {},
   "outputs": [
    {
     "name": "stdout",
     "output_type": "stream",
     "text": [
      "0 Hello Blake you have a cake!\n",
      "1 Hello Blake you have a cake!\n",
      "2 Hello Blake you have a cake!\n",
      "3 Hello Blake you have a cake!\n",
      "4 Hello Blake you have a cake!\n",
      "5 Hello Blake you have a cake!\n",
      "6 Hello Blake you have a cake!\n",
      "7 Hello Blake you have a cake!\n",
      "8 Hello Blake you have a cake!\n",
      "9 Hello Blake you have a cake!\n",
      "10 Hello Blake you have a cake!\n",
      "11 Hello Blake you have a cake!\n",
      "12 Hello Blake you have a cake!\n",
      "13 Hello Blake you have a cake!\n",
      "14 Hello Blake you have a cake!\n",
      "15 Hello Blake you have a cake!\n",
      "16 Hello Blake you have a cake!\n",
      "17 Hello Blake you have a cake!\n",
      "18 Hello Blake you have a cake!\n",
      "19 Hello Blake you have a cake!\n",
      "20 Hello Blake you have a cake!\n",
      "21 Hello Blake you have a cake!\n",
      "22 Hello Blake you have a cake!\n",
      "23 Hello Blake you have a cake!\n",
      "24 Hello Blake you have a cake!\n",
      "25 Hello Blake you have a cake!\n",
      "26 Hello Blake you have a cake!\n",
      "27 Hello Blake you have a cake!\n",
      "28 Hello Blake you have a cake!\n",
      "29 Hello Blake you have a cake!\n",
      "30 Hello Blake you have a cake!\n",
      "31 Hello Blake you have a cake!\n",
      "32 Hello Blake you have a cake!\n",
      "33 Hello Blake you have a cake!\n",
      "34 Hello Blake you have a cake!\n",
      "35 Hello Blake you have a cake!\n",
      "36 Hello Blake you have a cake!\n",
      "37 Hello Blake you have a cake!\n",
      "38 Hello Blake you have a cake!\n",
      "39 Hello Blake you have a cake!\n",
      "40 Hello Blake you have a cake!\n",
      "41 Hello Blake you have a cake!\n",
      "42 Hello Blake you have a cake!\n",
      "43 Hello Blake you have a cake!\n",
      "44 Hello Blake you have a cake!\n",
      "45 Hello Blake you have a cake!\n",
      "46 Hello Blake you have a cake!\n",
      "47 Hello Blake you have a cake!\n",
      "48 Hello Blake you have a cake!\n",
      "49 Hello Blake you have a cake!\n",
      "50 Hello Blake you have a cake!\n",
      "51 Hello Blake you have a cake!\n",
      "52 Hello Blake you have a cake!\n",
      "53 Hello Blake you have a cake!\n",
      "54 Hello Blake you have a cake!\n",
      "55 Hello Blake you have a cake!\n",
      "56 Hello Blake you have a cake!\n",
      "57 Hello Blake you have a cake!\n",
      "58 Hello Blake you have a cake!\n",
      "59 Hello Blake you have a cake!\n",
      "60 Hello Blake you have a cake!\n",
      "61 Hello Blake you have a cake!\n",
      "62 Hello Blake you have a cake!\n",
      "63 Hello Blake you have a cake!\n",
      "64 Hello Blake you have a cake!\n",
      "65 Hello Blake you have a cake!\n",
      "66 Hello Blake you have a cake!\n",
      "67 Hello Blake you have a cake!\n",
      "68 Hello Blake you have a cake!\n",
      "69 Hello Blake you have a cake!\n",
      "70 Hello Blake you have a cake!\n",
      "71 Hello Blake you have a cake!\n",
      "72 Hello Blake you have a cake!\n",
      "73 Hello Blake you have a cake!\n",
      "74 Hello Blake you have a cake!\n",
      "75 Hello Blake you have a cake!\n",
      "76 Hello Blake you have a cake!\n",
      "77 Hello Blake you have a cake!\n",
      "78 Hello Blake you have a cake!\n",
      "79 Hello Blake you have a cake!\n",
      "80 Hello Blake you have a cake!\n",
      "81 Hello Blake you have a cake!\n",
      "82 Hello Blake you have a cake!\n",
      "83 Hello Blake you have a cake!\n",
      "84 Hello Blake you have a cake!\n",
      "85 Hello Blake you have a cake!\n",
      "86 Hello Blake you have a cake!\n",
      "87 Hello Blake you have a cake!\n",
      "88 Hello Blake you have a cake!\n",
      "89 Hello Blake you have a cake!\n",
      "90 Hello Blake you have a cake!\n",
      "91 Hello Blake you have a cake!\n",
      "92 Hello Blake you have a cake!\n",
      "93 Hello Blake you have a cake!\n",
      "94 Hello Blake you have a cake!\n",
      "95 Hello Blake you have a cake!\n",
      "96 Hello Blake you have a cake!\n",
      "97 Hello Blake you have a cake!\n",
      "98 Hello Blake you have a cake!\n",
      "99 Hello Blake you have a cake!\n"
     ]
    }
   ],
   "source": [
    "def say_hello(name, times):\n",
    "\n",
    "    for i  in range(times):\n",
    "        print(i, \"Hello\", name)\n",
    "\n",
    "say_hello(\"Blake you have a cake!\", 100)\n",
    "   "
   ]
  },
  {
   "cell_type": "code",
   "execution_count": null,
   "metadata": {},
   "outputs": [],
   "source": []
  }
 ],
 "metadata": {
  "kernelspec": {
   "display_name": ".venv",
   "language": "python",
   "name": "python3"
  },
  "language_info": {
   "codemirror_mode": {
    "name": "ipython",
    "version": 3
   },
   "file_extension": ".py",
   "mimetype": "text/x-python",
   "name": "python",
   "nbconvert_exporter": "python",
   "pygments_lexer": "ipython3",
   "version": "3.12.4"
  }
 },
 "nbformat": 4,
 "nbformat_minor": 2
}
